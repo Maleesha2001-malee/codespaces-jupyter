{
 "cells": [
  {
   "cell_type": "code",
   "execution_count": 1,
   "metadata": {},
   "outputs": [],
   "source": [
    "class SimpleClass:\n",
    "    pass\n",
    "myobj = SimpleClass()"
   ]
  },
  {
   "cell_type": "code",
   "execution_count": 9,
   "metadata": {},
   "outputs": [
    {
     "name": "stdout",
     "output_type": "stream",
     "text": [
      "Student IT1002  profile: name James Peter Course: IT\n",
      "Student IT2305  profile: name James Peter Course: IT\n"
     ]
    }
   ],
   "source": [
    "class Student:\n",
    "    def __init__(self,id,nm,crs):\n",
    "      self.__id=id\n",
    "      self.__name=nm\n",
    "      self.__course=crs\n",
    "\n",
    "    def getId(self,id):\n",
    "       self.__id=id\n",
    "\n",
    "    def setId(self,id):\n",
    "       self.__id=id\n",
    "\n",
    "    def profile(self):\n",
    "       print(\"Student\",self.__id,\" profile: name\",self.__name,\"Course:\",self.__course)\n",
    "\n",
    "peter = Student('IT1002','James Peter','IT')\n",
    "peter.profile()\n",
    "peter.setId('IT2305')\n",
    "peter.profile()\n"
   ]
  },
  {
   "cell_type": "code",
   "execution_count": 16,
   "metadata": {},
   "outputs": [
    {
     "name": "stdout",
     "output_type": "stream",
     "text": [
      "[10, 1, 30, 5]\n",
      "[10, 1]\n",
      "['A', 'B', 'C']\n"
     ]
    }
   ],
   "source": [
    "class Stack:\n",
    "    def __init__(self):\n",
    "        self.__mystack=[]\n",
    "\n",
    "    def push(self,ele):\n",
    "        self.__mystack.append(ele)\n",
    "\n",
    "    def pop(self):\n",
    "        lstEle = self.__mystack[-1]\n",
    "        del self.__mystack[-1]\n",
    "        return lstEle\n",
    "    \n",
    "    def printStack(self):\n",
    "        print(self.__mystack)\n",
    "\n",
    "stack1 = Stack()\n",
    "stack1.push(10)\n",
    "stack1.push(1)\n",
    "stack1.push(30)\n",
    "stack1.push(5)\n",
    "stack1.printStack()\n",
    "stack1.pop()\n",
    "stack1.pop()\n",
    "stack1.printStack()\n",
    "\n",
    "stackStr = Stack()\n",
    "stackStr.push('A')\n",
    "stackStr.push('B')\n",
    "stackStr.push('C')\n",
    "stackStr.printStack()"
   ]
  },
  {
   "cell_type": "code",
   "execution_count": 19,
   "metadata": {},
   "outputs": [
    {
     "name": "stdout",
     "output_type": "stream",
     "text": [
      "My name is  Jimy\n",
      "Woof !\n",
      "My name is  Dane\n",
      "Meow !\n"
     ]
    }
   ],
   "source": [
    "class Animal:\n",
    "    def __init__(self,name):\n",
    "        self.__name=name\n",
    "        print(\"My name is \",self.__name)\n",
    "\n",
    "    def make_sound(self):\n",
    "        pass\n",
    "\n",
    "class Dog(Animal):\n",
    "    def make_sound(self):\n",
    "        print('Woof !')\n",
    "\n",
    "class Cat(Animal):\n",
    "    def make_sound(self):\n",
    "        print('Meow !')\n",
    "\n",
    "dog = Dog('Jimy')\n",
    "dog.make_sound()\n",
    "cat = Cat('Dane')\n",
    "cat.make_sound()"
   ]
  },
  {
   "cell_type": "code",
   "execution_count": 28,
   "metadata": {},
   "outputs": [
    {
     "ename": "UnboundLocalError",
     "evalue": "local variable '_TrackStack__t' referenced before assignment",
     "output_type": "error",
     "traceback": [
      "\u001b[0;31m---------------------------------------------------------------------------\u001b[0m",
      "\u001b[0;31mUnboundLocalError\u001b[0m                         Traceback (most recent call last)",
      "Cell \u001b[0;32mIn[28], line 36\u001b[0m\n\u001b[1;32m     33\u001b[0m         \u001b[38;5;28mprint\u001b[39m(\u001b[38;5;28mself\u001b[39m\u001b[38;5;241m.\u001b[39m__mystack)\n\u001b[1;32m     35\u001b[0m stack1 \u001b[38;5;241m=\u001b[39m TrackStack()\n\u001b[0;32m---> 36\u001b[0m \u001b[43mstack1\u001b[49m\u001b[38;5;241;43m.\u001b[39;49m\u001b[43mpush\u001b[49m\u001b[43m(\u001b[49m\u001b[38;5;241;43m10\u001b[39;49m\u001b[43m)\u001b[49m\n\u001b[1;32m     37\u001b[0m stack1\u001b[38;5;241m.\u001b[39mpush(\u001b[38;5;241m1\u001b[39m)\n\u001b[1;32m     38\u001b[0m stack1\u001b[38;5;241m.\u001b[39mpush(\u001b[38;5;241m30\u001b[39m)\n",
      "Cell \u001b[0;32mIn[28], line 22\u001b[0m, in \u001b[0;36mTrackStack.push\u001b[0;34m(self, ele)\u001b[0m\n\u001b[1;32m     21\u001b[0m \u001b[38;5;28;01mdef\u001b[39;00m \u001b[38;5;21mpush\u001b[39m(\u001b[38;5;28mself\u001b[39m,ele):\n\u001b[0;32m---> 22\u001b[0m     __t \u001b[38;5;241m+\u001b[39m\u001b[38;5;241m=\u001b[39m \u001b[38;5;241m1\u001b[39m\n\u001b[1;32m     23\u001b[0m     Stack\u001b[38;5;241m.\u001b[39mpush(\u001b[38;5;28mself\u001b[39m,ele)\n",
      "\u001b[0;31mUnboundLocalError\u001b[0m: local variable '_TrackStack__t' referenced before assignment"
     ]
    }
   ],
   "source": [
    "class Stack:\n",
    "    def __init__(self):\n",
    "        self.__mystack=[]\n",
    "\n",
    "    def push(self,ele):\n",
    "        self.__mystack.append(ele)\n",
    "\n",
    "    def pop(self):\n",
    "        lstEle = self.__mystack[-1]\n",
    "        del self.__mystack[-1]\n",
    "        return lstEle\n",
    "    \n",
    "    def printStack(self):\n",
    "        print(self.__mystack)\n",
    "\n",
    "class TrackStack(Stack):\n",
    "    def __init__(self):\n",
    "        Stack.__init__(self)\n",
    "        self.__t=0\n",
    "\n",
    "    def push(self,ele):\n",
    "        __t += 1\n",
    "        Stack.push(self,ele)\n",
    "     \n",
    "    def pop(self):\n",
    "        __t -= 1\n",
    "        Stack.pop(self)\n",
    "\n",
    "    def stack_count(self):\n",
    "        return self.__t\n",
    "    \n",
    "    def printStack(self):\n",
    "        print(self.__mystack)\n",
    "\n",
    "stack1 = TrackStack()\n",
    "stack1.push(10)\n",
    "stack1.push(1)\n",
    "stack1.push(30)\n",
    "stack1.push(5)\n",
    "stack1.printStack()\n",
    "stack1.stack_count()\n",
    "stack1.pop()\n",
    "stack1.pop()\n",
    "stack1.printStack()\n",
    "stack1.stack_count()\n",
    "    "
   ]
  },
  {
   "cell_type": "code",
   "execution_count": null,
   "metadata": {},
   "outputs": [],
   "source": []
  }
 ],
 "metadata": {
  "kernelspec": {
   "display_name": "Python 3",
   "language": "python",
   "name": "python3"
  },
  "language_info": {
   "codemirror_mode": {
    "name": "ipython",
    "version": 3
   },
   "file_extension": ".py",
   "mimetype": "text/x-python",
   "name": "python",
   "nbconvert_exporter": "python",
   "pygments_lexer": "ipython3",
   "version": "3.10.13"
  }
 },
 "nbformat": 4,
 "nbformat_minor": 2
}
