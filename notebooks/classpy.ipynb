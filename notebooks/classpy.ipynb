{
 "cells": [
  {
   "cell_type": "code",
   "execution_count": 1,
   "metadata": {},
   "outputs": [],
   "source": [
    "class SimpleClass:\n",
    "    pass\n",
    "myobj = SimpleClass()"
   ]
  },
  {
   "cell_type": "code",
   "execution_count": 9,
   "metadata": {},
   "outputs": [
    {
     "name": "stdout",
     "output_type": "stream",
     "text": [
      "Student IT1002  profile: name James Peter Course: IT\n",
      "Student IT2305  profile: name James Peter Course: IT\n"
     ]
    }
   ],
   "source": [
    "class Student:\n",
    "    def __init__(self,id,nm,crs):\n",
    "      self.__id=id\n",
    "      self.__name=nm\n",
    "      self.__course=crs\n",
    "\n",
    "    def getId(self,id):\n",
    "       self.__id=id\n",
    "\n",
    "    def setId(self,id):\n",
    "       self.__id=id\n",
    "\n",
    "    def profile(self):\n",
    "       print(\"Student\",self.__id,\" profile: name\",self.__name,\"Course:\",self.__course)\n",
    "\n",
    "peter = Student('IT1002','James Peter','IT')\n",
    "peter.profile()\n",
    "peter.setId('IT2305')\n",
    "peter.profile()\n"
   ]
  },
  {
   "cell_type": "code",
   "execution_count": null,
   "metadata": {},
   "outputs": [],
   "source": []
  }
 ],
 "metadata": {
  "kernelspec": {
   "display_name": "Python 3",
   "language": "python",
   "name": "python3"
  },
  "language_info": {
   "codemirror_mode": {
    "name": "ipython",
    "version": 3
   },
   "file_extension": ".py",
   "mimetype": "text/x-python",
   "name": "python",
   "nbconvert_exporter": "python",
   "pygments_lexer": "ipython3",
   "version": "3.10.13"
  }
 },
 "nbformat": 4,
 "nbformat_minor": 2
}
